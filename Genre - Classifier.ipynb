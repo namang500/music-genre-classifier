{
 "cells": [
  {
   "cell_type": "markdown",
   "metadata": {},
   "source": [
    "## Importing all the dependencies"
   ]
  },
  {
   "cell_type": "code",
   "execution_count": 1,
   "metadata": {},
   "outputs": [
    {
     "name": "stderr",
     "output_type": "stream",
     "text": [
      "C:\\Users\\Aditya Aggarwal\\Anaconda3\\lib\\site-packages\\sklearn\\cross_validation.py:44: DeprecationWarning: This module was deprecated in version 0.18 in favor of the model_selection module into which all the refactored classes and functions are moved. Also note that the interface of the new CV iterators are different from that of this module. This module will be removed in 0.20.\n",
      "  \"This module will be removed in 0.20.\", DeprecationWarning)\n"
     ]
    }
   ],
   "source": [
    "#importing all the dependencies\n",
    "\n",
    "import pandas as pd\n",
    "import os\n",
    "import json\n",
    "from scipy.io import wavfile\n",
    "import glob\n",
    "import collections\n",
    "import matplotlib.pyplot as plt\n",
    "from python_speech_features import mfcc\n",
    "import csv\n",
    "import os\n",
    "import wave\n",
    "from scipy.io.wavfile import read\n",
    "from sklearn import preprocessing as pp\n",
    "import numpy as np\n",
    "import librosa\n",
    "import librosa.display\n",
    "import sklearn\n",
    "import sklearn.ensemble\n",
    "from sklearn.metrics import accuracy_score\n",
    "from sklearn.model_selection import train_test_split\n",
    "from sklearn.neighbors import KNeighborsClassifier\n",
    "from xgboost import XGBClassifier\n",
    "from sklearn import decomposition \n",
    "from sklearn.preprocessing import StandardScaler\n",
    "from sklearn.metrics import confusion_matrix\n",
    "from sklearn.metrics import classification_report\n",
    "from sklearn import cross_validation\n",
    "import pickle"
   ]
  },
  {
   "cell_type": "code",
   "execution_count": 2,
   "metadata": {},
   "outputs": [
    {
     "name": "stdout",
     "output_type": "stream",
     "text": [
      "[ 170  255  385 ..., -875 -748 -686]\n",
      "[[  7.16443143e+02   7.21613339e+02   7.15084481e+02 ...,   8.07158893e+02\n",
      "    8.03672879e+02   7.98191918e+02]\n",
      " [  1.50982821e+02   1.56349040e+02   1.52836858e+02 ...,   2.00576343e+02\n",
      "    2.02365241e+02   1.98448287e+02]\n",
      " [ -3.88862373e+01  -3.75724955e+01  -3.88825906e+01 ...,  -6.01000865e+01\n",
      "   -6.09293814e+01  -6.48570812e+01]\n",
      " ..., \n",
      " [  5.12762779e+00  -5.63698943e-01  -6.70572693e+00 ...,  -9.07922513e+00\n",
      "   -7.70967240e+00  -1.20309769e+01]\n",
      " [ -2.40058332e+00  -5.43993419e+00  -7.74070779e+00 ...,   6.38774848e+00\n",
      "    8.72633833e+00   6.13289890e+00]\n",
      " [ -1.12062080e+00  -2.31811470e+00  -5.15998213e-01 ...,   4.80575992e+00\n",
      "    9.85532547e+00   9.46684462e+00]]\n",
      "(20, 1297)\n"
     ]
    }
   ],
   "source": [
    "\n",
    "path1 = r'C:\\Users\\Aditya Aggarwal\\Minor\\genre\\blues'\n",
    "blues = []\n",
    "for filename in glob.glob(os.path.join(path1, '*.wav')):\n",
    "    (rate , data) = read(filename)\n",
    "    data = np.array(data)\n",
    "    blues.append( data[: , 0])\n",
    "blues = np.array(blues)    \n",
    "print(blues[0])\n",
    "d = []\n",
    "d = librosa.feature.mfcc(np.array(blues[0]).flatten() , 44100 , n_mfcc = 20)\n",
    "print(d)\n",
    "print(d.shape)\n",
    "#mfcc_feat = mfcc(data,rate)\n",
    "#print(mfcc_feat)\n",
    "#redusing mfcc dimension to 104\n",
    "#mm = np.transpose(mfcc_feat)\n",
    "#mf = np.mean(mm,axis=1)\n",
    "#cf = np.cov(mm)\n",
    "#ff=mf "
   ]
  },
  {
   "cell_type": "markdown",
   "metadata": {},
   "source": [
    "## Importing all the audio files from genre folders"
   ]
  },
  {
   "cell_type": "code",
   "execution_count": 3,
   "metadata": {
    "collapsed": true
   },
   "outputs": [],
   "source": [
    "\n",
    "#import the audio files from genre folder\n",
    "#class = target representation\n",
    "#blues  = 1\n",
    "#classical = 2\n",
    "#country = 3\n",
    "#disco = 4\n",
    "#hiphop = 5\n",
    "#jazz = 6\n",
    "#metal = 7\n",
    "#pop = 8\n",
    "\n",
    "audio_files = []\n",
    "path1 = r'C:\\Users\\Aditya Aggarwal\\Minor\\genre\\blues'\n",
    "path2 = r'C:\\Users\\Aditya Aggarwal\\Minor\\genre\\classical'\n",
    "path3 = r'C:\\Users\\Aditya Aggarwal\\Minor\\genre\\country'\n",
    "path4 = r'C:\\Users\\Aditya Aggarwal\\Minor\\genre\\disco'\n",
    "path5 = r'C:\\Users\\Aditya Aggarwal\\Minor\\genre\\hiphop'\n",
    "path6 = r'C:\\Users\\Aditya Aggarwal\\Minor\\genre\\jazz'\n",
    "path7 = r'C:\\Users\\Aditya Aggarwal\\Minor\\genre\\metal'\n",
    "path8 = r'C:\\Users\\Aditya Aggarwal\\Minor\\genre\\pop'\n",
    "\n",
    "\n",
    "from scipy.io.wavfile import read\n",
    "\n",
    "blues = []\n",
    "classical = []\n",
    "country = []\n",
    "disco = []\n",
    "hiphop = []\n",
    "jazz = []\n",
    "metal = []\n",
    "pop = []\n",
    "\n",
    "target = []\n",
    "\n",
    "for filename in glob.glob(os.path.join(path1, '*.wav')):\n",
    "    (rate , data) = read(filename)\n",
    "    data = np.array(data)\n",
    "    blues.append( data[: , 0])\n",
    "    target.append(1)\n",
    "\n",
    "blues = np.array(blues)\n",
    "    \n",
    "for filename in glob.glob(os.path.join(path2, '*.wav')):\n",
    "    (rate , data) = read(filename)\n",
    "    data = np.array(data)\n",
    "    classical.append( data[: , 0])\n",
    "    target.append(2)\n",
    "    \n",
    "classical = np.array(classical)\n",
    "    \n",
    "for filename in glob.glob(os.path.join(path3, '*.wav')):\n",
    "    (rate , data) = read(filename)\n",
    "    data = np.array(data)\n",
    "    country.append(data[: , 0])\n",
    "    target.append(3)\n",
    "    \n",
    "country = np.array(country)\n",
    "    \n",
    "for filename in glob.glob(os.path.join(path4, '*.wav')):\n",
    "    (rate , data) = read(filename)\n",
    "    data = np.array(data)\n",
    "    disco.append(data[: , 0])\n",
    "    target.append(4)\n",
    "    \n",
    "disco = np.array(disco)\n",
    "    \n",
    "for filename in glob.glob(os.path.join(path5, '*.wav')):\n",
    "    (rate , data) = read(filename)\n",
    "    data = np.array(data)\n",
    "    hiphop.append(data[: , 0])\n",
    "    target.append(5)\n",
    "    \n",
    "hiphop = np.array(hiphop) \n",
    "    \n",
    "for filename in glob.glob(os.path.join(path6, '*.wav')):\n",
    "    (rate , data) = read(filename)\n",
    "    data = np.array(data)\n",
    "    jazz.append(data[: , 0])\n",
    "    target.append(6)\n",
    "    \n",
    "jazz = np.array(jazz)\n",
    "    \n",
    "for filename in glob.glob(os.path.join(path7, '*.wav')):\n",
    "    (rate , data) = read(filename)\n",
    "    data = np.array(data)\n",
    "    metal.append(data[: , 0])\n",
    "    target.append(7)\n",
    "    \n",
    "metal = np.array(metal)\n",
    "    \n",
    "for filename in glob.glob(os.path.join(path8, '*.wav')):\n",
    "    (rate , data) = read(filename)\n",
    "    data = np.array(data)\n",
    "    pop.append(data[: , 0])\n",
    "    target.append(8)\n",
    "    \n",
    "pop = np.array(pop)\n",
    "\n",
    "    \n"
   ]
  },
  {
   "cell_type": "markdown",
   "metadata": {},
   "source": [
    "## FEATURE EXTRACTION"
   ]
  },
  {
   "cell_type": "markdown",
   "metadata": {},
   "source": [
    "## Calculating the energy spectrums of different audio files of all the genres "
   ]
  },
  {
   "cell_type": "code",
   "execution_count": 4,
   "metadata": {},
   "outputs": [
    {
     "name": "stdout",
     "output_type": "stream",
     "text": [
      "100\n",
      "[[  2.36450086e+09   2.44423493e+09   2.28973657e+09 ...,   1.75325322e+10\n",
      "    1.75590233e+10   4.46443586e+09]\n",
      " [  5.35981146e+08   6.36238844e+08   8.60851811e+08 ...,   1.07902769e+10\n",
      "    9.66376893e+09   3.74662757e+09]\n",
      " [  2.56285451e+08   5.30226287e+08   4.98496068e+08 ...,   4.08529577e+09\n",
      "    2.38536344e+09   2.08312339e+09]\n",
      " ..., \n",
      " [  2.28710541e+00   1.90597102e+00   1.74139850e+00 ...,   3.19551519e+00\n",
      "    3.99117896e+00   4.42300415e+00]\n",
      " [  3.13142230e+00   2.81164611e+00   2.24477805e+00 ...,   3.20717244e+00\n",
      "    3.18679643e+00   3.75965167e+00]\n",
      " [  3.63538286e+00   3.59062775e+00   3.48610954e+00 ...,   1.25605875e+01\n",
      "    9.12786757e+00   5.62714033e+00]]\n"
     ]
    }
   ],
   "source": [
    "\n",
    "blues_spectrum = []\n",
    "classical_spectrum = []\n",
    "country_spectrum = []\n",
    "disco_spectrum = []\n",
    "hiphop_spectrum = []\n",
    "jazz_spectrum = []\n",
    "metal_spectrum = []\n",
    "pop_spectrum = []\n",
    "\n",
    "print(len(classical))\n",
    "\n",
    "for i in range(100):\n",
    "    blues_spectrum.append(librosa.feature.melspectrogram(S = np.abs(librosa.stft(blues[i]))**2) )\n",
    "    classical_spectrum.append(librosa.feature.melspectrogram(S = np.abs(librosa.stft(classical[i]))**2))\n",
    "    country_spectrum.append(librosa.feature.melspectrogram(S = np.abs(librosa.stft(country[i]))**2))\n",
    "    disco_spectrum.append(librosa.feature.melspectrogram(S = np.abs(librosa.stft(disco[i]))**2))\n",
    "    hiphop_spectrum.append(librosa.feature.melspectrogram(S = np.abs(librosa.stft(hiphop[i]))**2))\n",
    "    jazz_spectrum.append(librosa.feature.melspectrogram(S = np.abs(librosa.stft(jazz[i]))**2))\n",
    "    metal_spectrum.append(librosa.feature.melspectrogram(S = np.abs(librosa.stft(metal[i]))**2))\n",
    "    pop_spectrum.append(librosa.feature.melspectrogram(S = np.abs(librosa.stft(pop[i]))**2))\n",
    "    \n",
    "\n",
    "\n",
    "print(blues_spectrum[0])"
   ]
  },
  {
   "cell_type": "markdown",
   "metadata": {},
   "source": [
    "## Displaying the Mel Spectrogram"
   ]
  },
  {
   "cell_type": "markdown",
   "metadata": {},
   "source": [
    "## Mel spectrogram represents distribution of energies to pass it through mel filter banks. These mel filter banks ensures that the unpleasant noise or disturbances are removed from original data to avoid overfitting.\n"
   ]
  },
  {
   "cell_type": "code",
   "execution_count": 5,
   "metadata": {},
   "outputs": [
    {
     "data": {
      "image/png": "[encoded data removed]",
      "text/plain": [
       "<matplotlib.figure.Figure at 0x231268df710>"
      ]
     },
     "metadata": {},
     "output_type": "display_data"
    }
   ],
   "source": [
    "#observing variation of mel spectrogram through librosa.display library\n",
    "\n",
    "plt.figure(figsize=(10, 4))\n",
    "librosa.display.specshow(librosa.power_to_db(blues_spectrum[0], ref=np.max), y_axis='mel', fmax=8000, x_axis='time')\n",
    "plt.colorbar(format='%+2.0f dB')\n",
    "plt.title('Mel spectrogram')\n",
    "plt.tight_layout()\n",
    "plt.show()\n",
    "\n",
    "#we have used power_to_db for scaling of mel_spectrogram features and its representation in decibel unit."
   ]
  },
  {
   "cell_type": "markdown",
   "metadata": {},
   "source": [
    " ## MFCC(Mel Frequency Cepstral Coefficient) - this method is used for features extraction . The following steps are used for features extarction using mfcc: \n",
    " \n",
    "## 1. spliting an original data(audio file) into small partitions (30 sec into many small partitions of 20msec)\n",
    "## 2.For each frame calculate the periodogram estimate of the power spectrum.\n",
    "## 3.Apply the mel filterbank to the power spectra, sum the energy in each filter.\n",
    "## 4.Take the logarithm of all filterbank energies.\n",
    "## 5.Take the DCT of the log filterbank energies.\n",
    "## 6.Keep DCT coefficients 2-13, discard the rest"
   ]
  },
  {
   "cell_type": "markdown",
   "metadata": {},
   "source": [
    "## Apply mfcc to audio files and reducing the mfcc features by taking the mean value for those features and its dimensions to 13 features"
   ]
  },
  {
   "cell_type": "code",
   "execution_count": 6,
   "metadata": {},
   "outputs": [
    {
     "name": "stdout",
     "output_type": "stream",
     "text": [
      "(13, 325)\n",
      "(13,)\n",
      "[  2.15166826e+03   3.86021305e+01  -1.18900041e+01   7.62641036e+00\n",
      "  -3.97585096e+00   3.97239604e+00  -6.19740171e-01   3.79588042e+00\n",
      "  -5.38200156e-02   1.30590481e+00  -1.28472464e+00  -2.09591656e-01\n",
      "  -1.35185945e+00]\n"
     ]
    },
    {
     "data": {
      "image/png": "[encoded data removed]",
      "text/plain": [
       "<matplotlib.figure.Figure at 0x23103c3f6d8>"
      ]
     },
     "metadata": {},
     "output_type": "display_data"
    }
   ],
   "source": [
    "blues_mfcc = []\n",
    "classical_mfcc = []\n",
    "country_mfcc = []\n",
    "disco_mfcc = []\n",
    "hiphop_mfcc = []\n",
    "jazz_mfcc = []\n",
    "metal_mfcc = []\n",
    "pop_mfcc = []\n",
    "\n",
    "print(librosa.feature.mfcc(np.array(blues_spectrum[0]).flatten() , 44100 , n_mfcc = 13).shape)\n",
    "\n",
    "for i in range(100):\n",
    "    blues_mfcc.append(np.mean(librosa.feature.mfcc(np.array(blues_spectrum[i]).flatten() , 44100 , n_mfcc = 13) , axis = 1))    \n",
    "    classical_mfcc.append(np.mean(librosa.feature.mfcc(np.array(classical_spectrum[i]).flatten() , 44100 , n_mfcc = 13) , axis = 1))\n",
    "    country_mfcc.append(np.mean(librosa.feature.mfcc(np.array(country_spectrum[i]).flatten() , 44100 , n_mfcc = 13) , axis = 1))\n",
    "    disco_mfcc.append(np.mean(librosa.feature.mfcc(np.array(disco_spectrum[i]).flatten() , 44100 , n_mfcc = 13) , axis = 1))\n",
    "    hiphop_mfcc.append(np.mean(librosa.feature.mfcc(np.array(hiphop_spectrum[i]).flatten() , 44100 , n_mfcc = 13) , axis = 1))\n",
    "    jazz_mfcc.append(np.mean(librosa.feature.mfcc(np.array(jazz_spectrum[i]).flatten() , 44100 , n_mfcc = 13) , axis = 1))\n",
    "    metal_mfcc.append(np.mean(librosa.feature.mfcc(np.array(metal_spectrum[i]).flatten() , 44100 , n_mfcc = 13) , axis = 1))\n",
    "    pop_mfcc.append(np.mean(librosa.feature.mfcc(np.array(pop_spectrum[i]).flatten() , 44100 , n_mfcc = 13) , axis = 1))\n",
    "print(blues_mfcc[0].shape)\n",
    "print(blues_mfcc[0])\n",
    "plt.plot(blues[0])\n",
    "plt.xlabel('time')\n",
    "plt.ylabel('frequency')\n",
    "plt.show()"
   ]
  },
  {
   "cell_type": "code",
   "execution_count": 7,
   "metadata": {},
   "outputs": [
    {
     "name": "stdout",
     "output_type": "stream",
     "text": [
      "[  2.29850231e+03   4.94682259e+01  -7.84814117e+00   1.15256256e+01\n",
      "  -1.63656162e+00   5.50984785e+00   7.27451949e-01   3.04428661e+00\n",
      "   2.76107502e-01   9.73695519e-01   6.65060263e-01   1.94965891e+00\n",
      "   1.07562753e+00]\n"
     ]
    }
   ],
   "source": [
    "print(country_mfcc[0])"
   ]
  },
  {
   "cell_type": "markdown",
   "metadata": {},
   "source": [
    "## MFCC PLOT"
   ]
  },
  {
   "cell_type": "code",
   "execution_count": 8,
   "metadata": {},
   "outputs": [
    {
     "data": {
      "image/png": "[encoded data removed]",
      "text/plain": [
       "<matplotlib.figure.Figure at 0x2312696ed68>"
      ]
     },
     "metadata": {},
     "output_type": "display_data"
    }
   ],
   "source": [
    "#plot for an MFCC of stereotype audio (dual audio channels with small difference in bandwidth)\n",
    "\n",
    "plt.plot(country_mfcc[0])\n",
    "plt.xlabel('time')\n",
    "plt.ylabel('frequency')\n",
    "plt.title('MFCC PLOT')\n",
    "plt.tight_layout()\n",
    "plt.show()"
   ]
  },
  {
   "cell_type": "markdown",
   "metadata": {},
   "source": [
    "## Calculating delta and delta-delta for corresponding mfcc values "
   ]
  },
  {
   "cell_type": "code",
   "execution_count": 9,
   "metadata": {
    "scrolled": true
   },
   "outputs": [
    {
     "name": "stdout",
     "output_type": "stream",
     "text": [
      "[ -3.58248077e+02  -3.58489295e+02  -3.23241725e+02  -2.51828313e+02\n",
      "  -1.44873676e+02  -1.96635499e+00   5.18785794e-01  -4.67294857e-01\n",
      "  -9.78323603e-02  -5.45587143e-01  -3.74721201e-01  -4.97795686e-01\n",
      "  -2.40699799e-01]\n",
      "shape of delta : (13,)\n",
      "[-89.48778489 -80.60227642 -63.98979398 -42.01054036 -18.26680903\n",
      "  17.41863827  41.56327795  54.2007272   56.73416597  50.8220168\n",
      "  38.93944901  24.01739753   9.68453792]\n",
      "shape of delta2 : (13,)\n"
     ]
    }
   ],
   "source": [
    "\n",
    "blues_mfcc_delta = []\n",
    "classical_mfcc_delta = []\n",
    "country_mfcc_delta = []\n",
    "disco_mfcc_delta = []\n",
    "hiphop_mfcc_delta = []\n",
    "jazz_mfcc_delta = []\n",
    "metal_mfcc_delta = []\n",
    "pop_mfcc_delta = []\n",
    "\n",
    "blues_mfcc_delta2 = []\n",
    "classical_mfcc_delta2 = []\n",
    "country_mfcc_delta2 = []\n",
    "disco_mfcc_delta2 = []\n",
    "hiphop_mfcc_delta2 = []\n",
    "jazz_mfcc_delta2 = []\n",
    "metal_mfcc_delta2 = []\n",
    "pop_mfcc_delta2 = []\n",
    "\n",
    "for i in range(100):\n",
    "    blues_mfcc_delta.append(librosa.feature.delta(blues_mfcc[i]))\n",
    "    classical_mfcc_delta.append(librosa.feature.delta(classical_mfcc[i]))\n",
    "    country_mfcc_delta.append(librosa.feature.delta(country_mfcc[i]))\n",
    "    disco_mfcc_delta.append(librosa.feature.delta(disco_mfcc[i]))\n",
    "    hiphop_mfcc_delta.append(librosa.feature.delta(hiphop_mfcc[i]))\n",
    "    jazz_mfcc_delta.append(librosa.feature.delta(jazz_mfcc[i]))\n",
    "    metal_mfcc_delta.append(librosa.feature.delta(metal_mfcc[i]))\n",
    "    pop_mfcc_delta.append(librosa.feature.delta(pop_mfcc[i]))\n",
    "\n",
    "print(blues_mfcc_delta[0])\n",
    "print('shape of delta :' , blues_mfcc_delta[0].shape)\n",
    "\n",
    "for i in range(100):\n",
    "    blues_mfcc_delta2.append(librosa.feature.delta(blues_mfcc[i] , order = 2))\n",
    "    classical_mfcc_delta2.append(librosa.feature.delta(classical_mfcc[i] , order = 2))\n",
    "    country_mfcc_delta2.append(librosa.feature.delta(country_mfcc[i] , order = 2))\n",
    "    disco_mfcc_delta2.append(librosa.feature.delta(disco_mfcc[i] , order = 2))\n",
    "    hiphop_mfcc_delta2.append(librosa.feature.delta(hiphop_mfcc[i] , order = 2))\n",
    "    jazz_mfcc_delta2.append(librosa.feature.delta(jazz_mfcc[i] , order = 2))\n",
    "    metal_mfcc_delta2.append(librosa.feature.delta(metal_mfcc[i] , order = 2))\n",
    "    pop_mfcc_delta2.append(librosa.feature.delta(pop_mfcc[i] , order = 2))\n",
    "\n",
    "print(blues_mfcc_delta2[0])\n",
    "print('shape of delta2 :' , blues_mfcc_delta2[0].shape)"
   ]
  },
  {
   "cell_type": "markdown",
   "metadata": {},
   "source": [
    "## Calculating the rhythmic features for the audio files\n",
    "## The rythmic features consists of beats and tempo. \n",
    "## Beat refers to pulse of time . Recognizing the beat in a song means finding the pattern and speed of the music."
   ]
  },
  {
   "cell_type": "code",
   "execution_count": 10,
   "metadata": {
    "collapsed": true
   },
   "outputs": [],
   "source": [
    "blues_tempo = []\n",
    "classical_tempo = []\n",
    "country_tempo = []\n",
    "disco_tempo = []\n",
    "hiphop_tempo = []\n",
    "jazz_tempo = []\n",
    "metal_tempo = []\n",
    "pop_tempo = []\n",
    "for i in range(100):\n",
    "    oenv_blues = librosa.onset.onset_strength(y = blues[i], sr= 44100, hop_length = 512)\n",
    "    blues_tempo.append(librosa.beat.tempo(onset_envelope=oenv_blues ,sr=44100,hop_length=512)[0])\n",
    "    oenv_classical = librosa.onset.onset_strength(y = classical[i], sr= 44100, hop_length = 512)\n",
    "    classical_tempo.append(librosa.beat.tempo(onset_envelope=oenv_classical ,sr=44100,hop_length=512)[0])\n",
    "    oenv_country = librosa.onset.onset_strength(y = country[i], sr= 44100, hop_length = 512)\n",
    "    country_tempo.append(librosa.beat.tempo(onset_envelope=oenv_country ,sr=44100,hop_length=512)[0])\n",
    "    oenv_disco = librosa.onset.onset_strength(y = disco[i], sr= 44100, hop_length = 512)\n",
    "    disco_tempo.append(librosa.beat.tempo(onset_envelope=oenv_disco ,sr=44100,hop_length=512)[0])\n",
    "    oenv_hiphop = librosa.onset.onset_strength(y = hiphop[i], sr= 44100, hop_length = 512)\n",
    "    hiphop_tempo.append(librosa.beat.tempo(onset_envelope=oenv_hiphop ,sr=44100,hop_length=512)[0])\n",
    "    oenv_jazz = librosa.onset.onset_strength(y = jazz[i], sr= 44100, hop_length = 512)\n",
    "    jazz_tempo.append(librosa.beat.tempo(onset_envelope=oenv_jazz ,sr=44100,hop_length=512)[0])\n",
    "    oenv_metal = librosa.onset.onset_strength(y = metal[i], sr= 44100, hop_length = 512)\n",
    "    metal_tempo.append(librosa.beat.tempo(onset_envelope=oenv_metal ,sr=44100,hop_length=512)[0])\n",
    "    oenv_pop = librosa.onset.onset_strength(y = pop[i], sr= 44100, hop_length = 512)\n",
    "    pop_tempo.append(librosa.beat.tempo(onset_envelope=oenv_pop ,sr=44100,hop_length=512)[0])"
   ]
  },
  {
   "cell_type": "markdown",
   "metadata": {},
   "source": [
    "## PREPROCESSING"
   ]
  },
  {
   "cell_type": "code",
   "execution_count": 11,
   "metadata": {},
   "outputs": [
    {
     "name": "stdout",
     "output_type": "stream",
     "text": [
      "(100, 663552)\n"
     ]
    },
    {
     "name": "stderr",
     "output_type": "stream",
     "text": [
      "C:\\Users\\Aditya Aggarwal\\Anaconda3\\lib\\site-packages\\sklearn\\utils\\validation.py:429: DataConversionWarning: Data with input dtype int16 was converted to float64 by the scale function.\n",
      "  warnings.warn(msg, _DataConversionWarning)\n"
     ]
    },
    {
     "name": "stdout",
     "output_type": "stream",
     "text": [
      "[ 170  255  385 ..., -875 -748 -686]\n"
     ]
    },
    {
     "data": {
      "image/png": "[encoded data removed]",
      "text/plain": [
       "<matplotlib.figure.Figure at 0x23103d59ba8>"
      ]
     },
     "metadata": {},
     "output_type": "display_data"
    }
   ],
   "source": [
    "#preprocessing: MinMaxScaling with normalization using gaussian model. here, mean = 0 and standard dev. = 1 .\n",
    "\n",
    "\n",
    "blues_scale = []\n",
    "classical_scale = []\n",
    "country_scale = []\n",
    "disco_scale = []\n",
    "hiphop_scale = []\n",
    "jazz_scale = []\n",
    "metal_scale = []\n",
    "pop_scale = []\n",
    "\n",
    "print(blues.shape)\n",
    "\n",
    "for i in range(len(blues)):\n",
    "    blues_scale.append(pp.scale(blues[i]))\n",
    "    classical_scale.append( pp.scale(classical[i]))\n",
    "    country_scale.append(pp.scale(country[i]))\n",
    "    disco_scale.append(pp.scale(disco[i]))\n",
    "    hiphop_scale.append(pp.scale(hiphop[i]))\n",
    "    jazz_scale.append(pp.scale(jazz[i]))\n",
    "    metal_scale.append(pp.scale(metal[i]))\n",
    "    pop_scale.append(pp.scale(pop[i]))\n",
    "\n",
    "print(blues[0])\n",
    "plt.plot(blues[0])\n",
    "plt.xlabel('time')\n",
    "plt.ylabel('scaled amplitude')\n",
    "plt.show()\n",
    "\n"
   ]
  },
  {
   "cell_type": "markdown",
   "metadata": {},
   "source": [
    "## Adding X_value features and Target_features to form a dataset for applying cross_validation "
   ]
  },
  {
   "cell_type": "code",
   "execution_count": 12,
   "metadata": {
    "collapsed": true,
    "scrolled": true
   },
   "outputs": [],
   "source": [
    "#adding X_value features and Target_features to form a dataset for applying cross_validation\n",
    "\n",
    "dataset = [[0 for i in range(0, 41)]for j in range(0, 800)]\n",
    "l = []\n",
    "prev = []\n",
    "k = 0\n",
    "for i in range(100):\n",
    "    l = []\n",
    "    for j in range(13):\n",
    "        dataset[k][j] = blues_mfcc[i][j]\n",
    "    for j in range(13):\n",
    "        dataset[k][j+13] = blues_mfcc_delta[i][j]\n",
    "    for j in range(13):\n",
    "        dataset[k][j+26] = blues_mfcc_delta2[i][j]\n",
    "    dataset[k][39] = blues_tempo[i]\n",
    "    dataset[k][40] = target[i]    \n",
    "    k += 1\n",
    "    \n",
    "for i in range(100):\n",
    "    l = []\n",
    "    for j in range(13):\n",
    "        dataset[k][j] = classical_mfcc[i][j]\n",
    "    for j in range(13):\n",
    "        dataset[k][j+13] = classical_mfcc_delta[i][j]\n",
    "    for j in range(13):\n",
    "        dataset[k][j+26] = classical_mfcc_delta2[i][j]\n",
    "    dataset[k][39] = classical_tempo[i]\n",
    "    dataset[k][40] = target[i+100]    \n",
    "    k += 1    \n",
    "\n",
    "for i in range(100):\n",
    "    l = []\n",
    "    for j in range(13):\n",
    "        dataset[k][j] = country_mfcc[i][j]\n",
    "    for j in range(13):\n",
    "        dataset[k][j+13] = country_mfcc_delta[i][j]\n",
    "    for j in range(13):\n",
    "        dataset[k][j+26] = country_mfcc_delta2[i][j]\n",
    "    dataset[k][39] = country_tempo[i]\n",
    "    dataset[k][40] = target[i+200]    \n",
    "    k += 1\n",
    "\n",
    "for i in range(100):\n",
    "    l = []\n",
    "    for j in range(13):\n",
    "        dataset[k][j] = disco_mfcc[i][j]\n",
    "    for j in range(13):\n",
    "        dataset[k][j+13] = disco_mfcc_delta[i][j]\n",
    "    for j in range(13):\n",
    "        dataset[k][j+26] = disco_mfcc_delta2[i][j]\n",
    "    dataset[k][39] = disco_tempo[i]    \n",
    "    dataset[k][40] = target[i+300]    \n",
    "    k += 1\n",
    "for i in range(100):\n",
    "    l = []\n",
    "    for j in range(13):\n",
    "        dataset[k][j] = hiphop_mfcc[i][j]\n",
    "    for j in range(13):\n",
    "        dataset[k][j+13] = hiphop_mfcc_delta[i][j]\n",
    "    for j in range(13):\n",
    "        dataset[k][j+26] = hiphop_mfcc_delta2[i][j]\n",
    "    dataset[k][39] = hiphop_tempo[i]\n",
    "    dataset[k][40] = target[i+400]    \n",
    "    k += 1    \n",
    "    \n",
    "for i in range(100):\n",
    "    l = []\n",
    "    for j in range(13):\n",
    "        dataset[k][j] = jazz_mfcc[i][j]\n",
    "    for j in range(13):\n",
    "        dataset[k][j+13] = jazz_mfcc_delta[i][j]\n",
    "    for j in range(13):\n",
    "        dataset[k][j+26] = jazz_mfcc_delta2[i][j]\n",
    "    dataset[k][39] = jazz_tempo[i]\n",
    "    dataset[k][40] = target[i+500]    \n",
    "    k += 1    \n",
    "for i in range(100):\n",
    "    l = []\n",
    "    for j in range(13):\n",
    "        dataset[k][j] = metal_mfcc[i][j]\n",
    "    for j in range(13):\n",
    "        dataset[k][j+13] = metal_mfcc_delta[i][j]\n",
    "    for j in range(13):\n",
    "        dataset[k][j+26] = metal_mfcc_delta2[i][j]\n",
    "    dataset[k][39] = metal_tempo[i]\n",
    "    dataset[k][40] = target[i+600]    \n",
    "    k += 1    \n",
    "    \n",
    "for i in range(100):\n",
    "    l = []\n",
    "    for j in range(13):\n",
    "        dataset[k][j] = pop_mfcc[i][j]\n",
    "    for j in range(13):\n",
    "        dataset[k][j+13] = pop_mfcc_delta[i][j]\n",
    "    for j in range(13):\n",
    "        dataset[k][j+26] = pop_mfcc_delta2[i][j]\n",
    "    dataset[k][39] = pop_tempo[i]\n",
    "    dataset[k][40] = target[i+700]    \n",
    "    k += 1        \n",
    "dataset = np.array(dataset)\n",
    "#print(np.array(dataset).shape)\n",
    "#print(dataset)\n",
    "\n",
    "\n"
   ]
  },
  {
   "cell_type": "code",
   "execution_count": 13,
   "metadata": {},
   "outputs": [
    {
     "data": {
      "text/plain": [
       "(800, 41)"
      ]
     },
     "execution_count": 13,
     "metadata": {},
     "output_type": "execute_result"
    }
   ],
   "source": [
    "dataset.shape"
   ]
  },
  {
   "cell_type": "markdown",
   "metadata": {},
   "source": [
    "dataset"
   ]
  },
  {
   "cell_type": "markdown",
   "metadata": {},
   "source": [
    "## Applying PCA(Principal Component Analysis) for feature reduction "
   ]
  },
  {
   "cell_type": "code",
   "execution_count": 14,
   "metadata": {
    "collapsed": true
   },
   "outputs": [],
   "source": [
    "sc = StandardScaler()\n",
    "dataset1 = sc.fit_transform(dataset[:, 0:39])\n",
    "#print(dataset)"
   ]
  },
  {
   "cell_type": "code",
   "execution_count": 15,
   "metadata": {},
   "outputs": [
    {
     "data": {
      "text/plain": [
       "PCA(copy=True, iterated_power='auto', n_components=None, random_state=None,\n",
       "  svd_solver='auto', tol=0.0, whiten=False)"
      ]
     },
     "execution_count": 15,
     "metadata": {},
     "output_type": "execute_result"
    }
   ],
   "source": [
    "pca = decomposition.PCA()\n",
    "pca.fit(dataset1)"
   ]
  },
  {
   "cell_type": "code",
   "execution_count": 16,
   "metadata": {
    "collapsed": true
   },
   "outputs": [],
   "source": [
    "v = pca.explained_variance_\n",
    "#print(v)\n",
    "total = v.sum()\n",
    "#print(total)\n",
    "sum = 0\n",
    "i = 0\n",
    "while i < v.shape[0] :\n",
    "    sum += v[i]\n",
    "    if (sum/total > 0.95) :\n",
    "        break\n",
    "    i +=1\n",
    "pca.n_components = i\n",
    "dataset1 = pca.fit_transform(dataset1)\n"
   ]
  },
  {
   "cell_type": "markdown",
   "metadata": {},
   "source": [
    "## Splitting the dataset into training and testing data using cross_validation technique "
   ]
  },
  {
   "cell_type": "code",
   "execution_count": 17,
   "metadata": {
    "collapsed": true
   },
   "outputs": [],
   "source": [
    "train_x , test_x , train_y , test_y = cross_validation.train_test_split(dataset1 , target , test_size = 0.25 , random_state = 42)\n"
   ]
  },
  {
   "cell_type": "markdown",
   "metadata": {},
   "source": [
    "## TRAINING"
   ]
  },
  {
   "cell_type": "markdown",
   "metadata": {},
   "source": [
    "## Random Forest Classifier"
   ]
  },
  {
   "cell_type": "code",
   "execution_count": 18,
   "metadata": {
    "collapsed": true
   },
   "outputs": [],
   "source": [
    "accuracy = []\n",
    "models = []"
   ]
  },
  {
   "cell_type": "code",
   "execution_count": 19,
   "metadata": {},
   "outputs": [
    {
     "name": "stdout",
     "output_type": "stream",
     "text": [
      "Accuracy :  44.5\n"
     ]
    }
   ],
   "source": [
    "cls = sklearn.ensemble.RandomForestClassifier(n_estimators = 10 , criterion = 'entropy' , min_samples_split = 8)\n",
    "#print(train_x)\n",
    "#print(train_y.shape)\n",
    "#for i in range(len(train_x)):\n",
    "models = []\n",
    "accuracy = []\n",
    "cls.fit(train_x , train_y)\n",
    "Y = cls.predict(test_x)\n",
    "models.append('random-forest')\n",
    "accuracy.append(accuracy_score(test_y , Y)*100)\n",
    "print('Accuracy : ', accuracy_score(test_y , Y)*100)"
   ]
  },
  {
   "cell_type": "code",
   "execution_count": 20,
   "metadata": {
    "collapsed": true
   },
   "outputs": [],
   "source": [
    "#pickling the randomForestClassifier\n",
    "random_forest_file_name = 'random_forest.pkl'\n",
    "random_forest_model_pkl = open(random_forest_file_name , 'wb')\n",
    "pickle.dump(cls ,random_forest_model_pkl)\n",
    "random_forest_model_pkl.close()"
   ]
  },
  {
   "cell_type": "code",
   "execution_count": 21,
   "metadata": {},
   "outputs": [
    {
     "name": "stdout",
     "output_type": "stream",
     "text": [
      "CONFUSION MATRIX\n"
     ]
    },
    {
     "data": {
      "text/plain": [
       "array([[11,  1,  0,  1,  1,  1,  4,  0],\n",
       "       [ 0, 13,  1,  0,  0, 10,  0,  0],\n",
       "       [ 1,  0,  7,  0,  0,  4,  1,  3],\n",
       "       [ 2,  0,  3, 12,  1,  1,  4,  4],\n",
       "       [ 5,  0,  2,  8, 14,  0,  2,  5],\n",
       "       [ 2,  2,  4,  0,  0, 10,  2,  1],\n",
       "       [ 3,  0,  3,  8,  0,  1, 13,  5],\n",
       "       [ 4,  1,  3,  1,  1,  1,  4,  9]])"
      ]
     },
     "execution_count": 21,
     "metadata": {},
     "output_type": "execute_result"
    }
   ],
   "source": [
    "print('CONFUSION MATRIX')\n",
    "confusion_matrix(Y,test_y)"
   ]
  },
  {
   "cell_type": "code",
   "execution_count": 22,
   "metadata": {},
   "outputs": [
    {
     "name": "stdout",
     "output_type": "stream",
     "text": [
      "CLASSIFICATION REPORT\n",
      "             precision    recall  f1-score   support\n",
      "\n",
      "          1       0.58      0.39      0.47        28\n",
      "          2       0.54      0.76      0.63        17\n",
      "          3       0.44      0.30      0.36        23\n",
      "          4       0.44      0.40      0.42        30\n",
      "          5       0.39      0.82      0.53        17\n",
      "          6       0.48      0.36      0.41        28\n",
      "          7       0.39      0.43      0.41        30\n",
      "          8       0.38      0.33      0.35        27\n",
      "\n",
      "avg / total       0.45      0.45      0.44       200\n",
      "\n"
     ]
    }
   ],
   "source": [
    "print(\"CLASSIFICATION REPORT\")\n",
    "print(classification_report(test_y, Y))"
   ]
  },
  {
   "cell_type": "markdown",
   "metadata": {},
   "source": [
    "## K Neighbors Classifier"
   ]
  },
  {
   "cell_type": "code",
   "execution_count": 23,
   "metadata": {},
   "outputs": [
    {
     "name": "stdout",
     "output_type": "stream",
     "text": [
      "Accuracy :  42.5\n"
     ]
    }
   ],
   "source": [
    "cls = sklearn.neighbors.KNeighborsClassifier()\n",
    "cls.fit(train_x , train_y)\n",
    "Y = cls.predict(test_x)\n",
    "models.append('k-neighbors')\n",
    "accuracy.append(accuracy_score(test_y , Y)*100)\n",
    "print('Accuracy : ' ,accuracy_score(test_y , Y)*100)"
   ]
  },
  {
   "cell_type": "code",
   "execution_count": 24,
   "metadata": {
    "collapsed": true
   },
   "outputs": [],
   "source": [
    "#pickling the KNeighborsClassifier\n",
    "KNeighbors_file_name = 'KNeighbors.pkl'\n",
    "KNeighbors_model_pkl = open(KNeighbors_file_name , 'wb')\n",
    "pickle.dump(cls ,KNeighbors_model_pkl)\n",
    "KNeighbors_model_pkl.close()"
   ]
  },
  {
   "cell_type": "code",
   "execution_count": 25,
   "metadata": {},
   "outputs": [
    {
     "name": "stdout",
     "output_type": "stream",
     "text": [
      "CONFUSION MATRIX\n"
     ]
    },
    {
     "data": {
      "text/plain": [
       "array([[12,  0,  4,  6,  2,  3,  7,  6],\n",
       "       [ 0, 13,  2,  1,  0, 12,  3,  1],\n",
       "       [ 4,  1, 11,  4,  0,  5,  3,  2],\n",
       "       [ 1,  0,  3, 12,  2,  0,  0,  7],\n",
       "       [ 2,  0,  0,  4, 12,  0,  4,  3],\n",
       "       [ 1,  3,  0,  0,  1,  7,  1,  0],\n",
       "       [ 6,  0,  3,  2,  0,  0, 12,  2],\n",
       "       [ 2,  0,  0,  1,  0,  1,  0,  6]])"
      ]
     },
     "execution_count": 25,
     "metadata": {},
     "output_type": "execute_result"
    }
   ],
   "source": [
    "print('CONFUSION MATRIX')\n",
    "confusion_matrix(Y,test_y)"
   ]
  },
  {
   "cell_type": "code",
   "execution_count": 26,
   "metadata": {},
   "outputs": [
    {
     "name": "stdout",
     "output_type": "stream",
     "text": [
      "CLASSIFICATION REPORT\n",
      "             precision    recall  f1-score   support\n",
      "\n",
      "          1       0.30      0.43      0.35        28\n",
      "          2       0.41      0.76      0.53        17\n",
      "          3       0.37      0.48      0.42        23\n",
      "          4       0.48      0.40      0.44        30\n",
      "          5       0.48      0.71      0.57        17\n",
      "          6       0.54      0.25      0.34        28\n",
      "          7       0.48      0.40      0.44        30\n",
      "          8       0.60      0.22      0.32        27\n",
      "\n",
      "avg / total       0.46      0.42      0.41       200\n",
      "\n"
     ]
    }
   ],
   "source": [
    "print(\"CLASSIFICATION REPORT\")\n",
    "print(classification_report(test_y, Y))"
   ]
  },
  {
   "cell_type": "markdown",
   "metadata": {},
   "source": [
    "## SVM Classifier"
   ]
  },
  {
   "cell_type": "code",
   "execution_count": 27,
   "metadata": {},
   "outputs": [
    {
     "name": "stdout",
     "output_type": "stream",
     "text": [
      "Accuracy :  51.0\n"
     ]
    }
   ],
   "source": [
    "cls = sklearn.svm.SVC()\n",
    "cls.fit(train_x , train_y)\n",
    "Y = cls.predict(test_x)\n",
    "models.append('svm')\n",
    "accuracy.append(accuracy_score(test_y , Y)*100)\n",
    "print('Accuracy : ' ,accuracy_score(test_y , Y)*100)"
   ]
  },
  {
   "cell_type": "code",
   "execution_count": 28,
   "metadata": {
    "collapsed": true
   },
   "outputs": [],
   "source": [
    "#pickling the SVM\n",
    "SVM_file_name = 'SVM.pkl'\n",
    "SVM_model_pkl = open(SVM_file_name , 'wb')\n",
    "pickle.dump(cls ,SVM_model_pkl)\n",
    "SVM_model_pkl.close()"
   ]
  },
  {
   "cell_type": "code",
   "execution_count": 29,
   "metadata": {},
   "outputs": [
    {
     "name": "stdout",
     "output_type": "stream",
     "text": [
      "CONFUSION MATRIX\n"
     ]
    },
    {
     "data": {
      "text/plain": [
       "array([[10,  0,  1,  1,  2,  1,  2,  2],\n",
       "       [ 0, 15,  0,  0,  0,  9,  2,  1],\n",
       "       [ 2,  1, 11,  0,  0,  3,  2,  1],\n",
       "       [ 2,  0,  5, 16,  1,  0,  3,  7],\n",
       "       [ 4,  0,  0,  2, 11,  0,  0,  3],\n",
       "       [ 1,  1,  3,  0,  0, 13,  1,  1],\n",
       "       [ 6,  0,  2,  7,  1,  1, 17,  3],\n",
       "       [ 3,  0,  1,  4,  2,  1,  3,  9]])"
      ]
     },
     "execution_count": 29,
     "metadata": {},
     "output_type": "execute_result"
    }
   ],
   "source": [
    "print('CONFUSION MATRIX')\n",
    "confusion_matrix(Y,test_y)"
   ]
  },
  {
   "cell_type": "code",
   "execution_count": 30,
   "metadata": {},
   "outputs": [
    {
     "name": "stdout",
     "output_type": "stream",
     "text": [
      "CLASSIFICATION REPORT\n",
      "             precision    recall  f1-score   support\n",
      "\n",
      "          1       0.53      0.36      0.43        28\n",
      "          2       0.56      0.88      0.68        17\n",
      "          3       0.55      0.48      0.51        23\n",
      "          4       0.47      0.53      0.50        30\n",
      "          5       0.55      0.65      0.59        17\n",
      "          6       0.65      0.46      0.54        28\n",
      "          7       0.46      0.57      0.51        30\n",
      "          8       0.39      0.33      0.36        27\n",
      "\n",
      "avg / total       0.51      0.51      0.50       200\n",
      "\n"
     ]
    }
   ],
   "source": [
    "print(\"CLASSIFICATION REPORT\")\n",
    "print(classification_report(test_y, Y))"
   ]
  },
  {
   "cell_type": "markdown",
   "metadata": {},
   "source": [
    "## Decision Tree Classifier"
   ]
  },
  {
   "cell_type": "code",
   "execution_count": 31,
   "metadata": {},
   "outputs": [
    {
     "name": "stdout",
     "output_type": "stream",
     "text": [
      "Accuracy :  39.5\n"
     ]
    }
   ],
   "source": [
    "cls = sklearn.tree.DecisionTreeClassifier()\n",
    "cls.fit(train_x , train_y)\n",
    "Y = cls.predict(test_x)\n",
    "models.append('decision-tree')\n",
    "accuracy.append(accuracy_score(test_y , Y)*100)\n",
    "print('Accuracy : ' , accuracy_score(test_y , Y)*100)\n"
   ]
  },
  {
   "cell_type": "code",
   "execution_count": 32,
   "metadata": {
    "collapsed": true
   },
   "outputs": [],
   "source": [
    "#pickling the DecisionTreeClassifier\n",
    "DecisionTreeClassifier_file_name = 'DecisionTreeClassifier.pkl'\n",
    "DecisionTreeClassifier_model_pkl = open(DecisionTreeClassifier_file_name , 'wb')\n",
    "pickle.dump(cls ,DecisionTreeClassifier_model_pkl)\n",
    "DecisionTreeClassifier_model_pkl.close()"
   ]
  },
  {
   "cell_type": "code",
   "execution_count": 33,
   "metadata": {},
   "outputs": [
    {
     "name": "stdout",
     "output_type": "stream",
     "text": [
      "CONFUSION MATRIX\n"
     ]
    },
    {
     "data": {
      "text/plain": [
       "array([[ 6,  1,  0,  4,  2,  0, 10,  1],\n",
       "       [ 1, 14,  3,  0,  0,  6,  1,  0],\n",
       "       [ 5,  0,  9,  1,  0,  5,  3,  5],\n",
       "       [ 2,  0,  2,  9,  1,  2,  2,  4],\n",
       "       [ 3,  0,  3,  5, 10,  0,  0,  3],\n",
       "       [ 2,  2,  4,  3,  0, 13,  3,  1],\n",
       "       [ 6,  0,  1,  5,  1,  1,  9,  4],\n",
       "       [ 3,  0,  1,  3,  3,  1,  2,  9]])"
      ]
     },
     "execution_count": 33,
     "metadata": {},
     "output_type": "execute_result"
    }
   ],
   "source": [
    "print('CONFUSION MATRIX')\n",
    "confusion_matrix(Y,test_y)"
   ]
  },
  {
   "cell_type": "code",
   "execution_count": 34,
   "metadata": {},
   "outputs": [
    {
     "name": "stdout",
     "output_type": "stream",
     "text": [
      "CLASSIFICATION REPORT\n",
      "             precision    recall  f1-score   support\n",
      "\n",
      "          1       0.25      0.21      0.23        28\n",
      "          2       0.56      0.82      0.67        17\n",
      "          3       0.32      0.39      0.35        23\n",
      "          4       0.41      0.30      0.35        30\n",
      "          5       0.42      0.59      0.49        17\n",
      "          6       0.46      0.46      0.46        28\n",
      "          7       0.33      0.30      0.32        30\n",
      "          8       0.41      0.33      0.37        27\n",
      "\n",
      "avg / total       0.39      0.40      0.38       200\n",
      "\n"
     ]
    }
   ],
   "source": [
    "print(\"CLASSIFICATION REPORT\")\n",
    "print(classification_report(test_y, Y))"
   ]
  },
  {
   "cell_type": "markdown",
   "metadata": {},
   "source": [
    "## XGBoost Classifier"
   ]
  },
  {
   "cell_type": "code",
   "execution_count": 35,
   "metadata": {},
   "outputs": [
    {
     "name": "stdout",
     "output_type": "stream",
     "text": [
      "accuracy :  47.5\n"
     ]
    }
   ],
   "source": [
    "cls = XGBClassifier()\n",
    "\n",
    "cls.fit(train_x , train_y)\n",
    "Y = cls.predict(test_x)\n",
    "models.append('xgboost')\n",
    "accuracy.append(accuracy_score(test_y , Y)*100)\n",
    "print('accuracy : ' , accuracy_score(test_y , Y)*100)"
   ]
  },
  {
   "cell_type": "code",
   "execution_count": 36,
   "metadata": {
    "collapsed": true
   },
   "outputs": [],
   "source": [
    "#pickling the XGBClassifier\n",
    "XGBClassifier_file_name = 'XGBClassifier.pkl'\n",
    "XGBClassifier_model_pkl = open(XGBClassifier_file_name , 'wb')\n",
    "pickle.dump(cls ,XGBClassifier_model_pkl)\n",
    "XGBClassifier_model_pkl.close()"
   ]
  },
  {
   "cell_type": "code",
   "execution_count": 37,
   "metadata": {},
   "outputs": [
    {
     "name": "stdout",
     "output_type": "stream",
     "text": [
      "CONFUSION MATRIX\n"
     ]
    },
    {
     "data": {
      "text/plain": [
       "array([[10,  1,  1,  2,  1,  0,  5,  2],\n",
       "       [ 1, 13,  1,  0,  0,  7,  0,  0],\n",
       "       [ 3,  0,  7,  1,  1,  4,  2,  2],\n",
       "       [ 0,  0,  4, 11,  0,  0,  2,  3],\n",
       "       [ 2,  0,  0,  6, 11,  0,  2,  3],\n",
       "       [ 2,  3,  5,  0,  0, 17,  2,  1],\n",
       "       [ 7,  0,  2,  6,  1,  0, 15,  5],\n",
       "       [ 3,  0,  3,  4,  3,  0,  2, 11]])"
      ]
     },
     "execution_count": 37,
     "metadata": {},
     "output_type": "execute_result"
    }
   ],
   "source": [
    "print('CONFUSION MATRIX')\n",
    "confusion_matrix(Y,test_y)"
   ]
  },
  {
   "cell_type": "code",
   "execution_count": 38,
   "metadata": {},
   "outputs": [
    {
     "name": "stdout",
     "output_type": "stream",
     "text": [
      "CLASSIFICATION REPORT\n",
      "             precision    recall  f1-score   support\n",
      "\n",
      "          1       0.45      0.36      0.40        28\n",
      "          2       0.59      0.76      0.67        17\n",
      "          3       0.35      0.30      0.33        23\n",
      "          4       0.55      0.37      0.44        30\n",
      "          5       0.46      0.65      0.54        17\n",
      "          6       0.57      0.61      0.59        28\n",
      "          7       0.42      0.50      0.45        30\n",
      "          8       0.42      0.41      0.42        27\n",
      "\n",
      "avg / total       0.47      0.47      0.47       200\n",
      "\n"
     ]
    }
   ],
   "source": [
    "print(\"CLASSIFICATION REPORT\")\n",
    "print(classification_report(test_y, Y))"
   ]
  },
  {
   "cell_type": "markdown",
   "metadata": {},
   "source": [
    "## Gradient Boosting Classifier"
   ]
  },
  {
   "cell_type": "code",
   "execution_count": 39,
   "metadata": {},
   "outputs": [
    {
     "name": "stdout",
     "output_type": "stream",
     "text": [
      "accuracy :  52.0\n"
     ]
    }
   ],
   "source": [
    "cls = sklearn.ensemble.GradientBoostingClassifier()\n",
    "\n",
    "cls.fit(train_x , train_y)\n",
    "Y = cls.predict(test_x)\n",
    "models.append('gradientboosting')\n",
    "accuracy.append(accuracy_score(test_y , Y)*100)\n",
    "print('accuracy : ' , accuracy_score(test_y , Y)*100)"
   ]
  },
  {
   "cell_type": "code",
   "execution_count": 40,
   "metadata": {
    "collapsed": true
   },
   "outputs": [],
   "source": [
    "#pickling the GradientBoostingClassifier\n",
    "GradientBoostingClassifier_file_name = 'GradientBoostingClassifier.pkl'\n",
    "GradientBoostingClassifier_model_pkl = open(GradientBoostingClassifier_file_name , 'wb')\n",
    "pickle.dump(cls ,GradientBoostingClassifier_model_pkl)\n",
    "GradientBoostingClassifier_model_pkl.close()"
   ]
  },
  {
   "cell_type": "code",
   "execution_count": 41,
   "metadata": {},
   "outputs": [
    {
     "name": "stdout",
     "output_type": "stream",
     "text": [
      "CONFUSION MATRIX\n"
     ]
    },
    {
     "data": {
      "text/plain": [
       "array([[14,  0,  1,  2,  0,  0,  7,  3],\n",
       "       [ 1, 14,  0,  0,  0,  6,  0,  1],\n",
       "       [ 3,  0,  7,  0,  1,  1,  2,  4],\n",
       "       [ 0,  1,  4, 14,  1,  1,  3,  2],\n",
       "       [ 2,  0,  0,  5, 12,  0,  1,  3],\n",
       "       [ 3,  2,  7,  1,  0, 19,  1,  1],\n",
       "       [ 3,  0,  2,  5,  1,  0, 15,  4],\n",
       "       [ 2,  0,  2,  3,  2,  1,  1,  9]])"
      ]
     },
     "execution_count": 41,
     "metadata": {},
     "output_type": "execute_result"
    }
   ],
   "source": [
    "print('CONFUSION MATRIX')\n",
    "confusion_matrix(Y,test_y)"
   ]
  },
  {
   "cell_type": "code",
   "execution_count": 42,
   "metadata": {},
   "outputs": [
    {
     "name": "stdout",
     "output_type": "stream",
     "text": [
      "CLASSIFICATION REPORT\n",
      "             precision    recall  f1-score   support\n",
      "\n",
      "          1       0.52      0.50      0.51        28\n",
      "          2       0.64      0.82      0.72        17\n",
      "          3       0.39      0.30      0.34        23\n",
      "          4       0.54      0.47      0.50        30\n",
      "          5       0.52      0.71      0.60        17\n",
      "          6       0.56      0.68      0.61        28\n",
      "          7       0.50      0.50      0.50        30\n",
      "          8       0.45      0.33      0.38        27\n",
      "\n",
      "avg / total       0.51      0.52      0.51       200\n",
      "\n"
     ]
    }
   ],
   "source": [
    "print(\"CLASSIFICATION REPORT\")\n",
    "print(classification_report(test_y, Y))"
   ]
  },
  {
   "cell_type": "code",
   "execution_count": 45,
   "metadata": {},
   "outputs": [
    {
     "data": {
      "image/png": "[encoded data removed]",
      "text/plain": [
       "<matplotlib.figure.Figure at 0x23103dc4780>"
      ]
     },
     "metadata": {},
     "output_type": "display_data"
    }
   ],
   "source": [
    "import matplotlib.pyplot as plt1\n",
    "index = np.arange(1, 7, 1)\n",
    "plt.bar(index, accuracy, color = ['blue', 'red', 'yellow', 'green', 'violet', 'black'])\n",
    "plt.xticks(index, models)\n",
    "plt.xlabel('Models')\n",
    "plt.ylabel('Accuracy')\n",
    "plt.show()"
   ]
  },
  {
   "cell_type": "code",
   "execution_count": null,
   "metadata": {
    "collapsed": true
   },
   "outputs": [],
   "source": []
  }
 ],
 "metadata": {
  "kernelspec": {
   "display_name": "Python 3",
   "language": "python",
   "name": "python3"
  },
  "language_info": {
   "codemirror_mode": {
    "name": "ipython",
    "version": 3
   },
   "file_extension": ".py",
   "mimetype": "text/x-python",
   "name": "python",
   "nbconvert_exporter": "python",
   "pygments_lexer": "ipython3",
   "version": "3.6.1"
  }
 },
 "nbformat": 4,
 "nbformat_minor": 2
}
